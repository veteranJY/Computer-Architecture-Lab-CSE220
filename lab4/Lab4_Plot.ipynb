{
 "cells": [
  {
   "cell_type": "code",
   "execution_count": 1,
   "id": "2d83cdb7",
   "metadata": {},
   "outputs": [],
   "source": [
    "from typing import List\n",
    "import os\n",
    "import matplotlib.pyplot as plt\n",
    "import numpy as np\n",
    "import pandas as pd\n",
    "from collections import defaultdict"
   ]
  },
  {
   "cell_type": "code",
   "execution_count": 3,
   "id": "6834b247",
   "metadata": {},
   "outputs": [],
   "source": [
    "config_dirs = [\n",
    "    '/home/veteran/Computer-Architecture-Lab-CSE220/lab4/victim_on_type/',\n",
    "    '/home/veteran/Computer-Architecture-Lab-CSE220/lab4/victim_off_type/',\n",
    "]\n",
    "\n",
    "spec_names = sorted([\n",
    "    'drmemtrace.omnetpp.552936.5555.dir',\n",
    "    'drmemtrace.sgcc_base.mytest-m64.555062.6619.dir',\n",
    "    'drmemtrace.specrand_i.553922.3230.dir',\n",
    "    'drmemtrace.perlbench_s_base.mytest-m64.554262.0160.dir',\n",
    "    'drmemtrace.leela_s_base.mytest-m64.555086.8417.dir',\n",
    "    'drmemtrace.x264.555077.8155.dir',\n",
    "    'drmemtrace.deepsjeng.553743.1618.dir',\n",
    "    'drmemtrace.exchange2.553888.1738.dir',\n",
    "    'drmemtrace.mcf_s_base.mytest-m64.554166.9011.dir',\n",
    "    'drmemtrace.xalancbmk_s_base.mytest-m64.555084.9837.dir'\n",
    "])\n",
    "\n",
    "image_path = '/home/veteran/Computer-Architecture-Lab-CSE220/lab4/Images/'"
   ]
  },
  {
   "cell_type": "code",
   "execution_count": 4,
   "id": "4861f49b",
   "metadata": {},
   "outputs": [],
   "source": [
    "def get_simple_name(spec_path: str) -> str:\n",
    "    return spec_path.split('.')[1]"
   ]
  },
  {
   "cell_type": "code",
   "execution_count": 5,
   "id": "23cfb0b1",
   "metadata": {},
   "outputs": [],
   "source": [
    "configs = ['VICTIM_CACHE_ON', 'VICTIM_CACHE_OFF']\n",
    "simple_names = [get_simple_name(spec) for spec in spec_names]"
   ]
  },
  {
   "cell_type": "code",
   "execution_count": 6,
   "id": "d39be9f8",
   "metadata": {},
   "outputs": [],
   "source": [
    "def extract_one_spec(spec: str) -> List[float]:\n",
    "    ipc_dict = dict()\n",
    "    dcms_dict = dict()\n",
    "    vch_dict = dict()\n",
    "    cold_dict = dict()\n",
    "    cpt_dict = dict()\n",
    "    cft_dict = dict()\n",
    "    dcms_no_dict = dict()\n",
    "    for i, config in enumerate(config_dirs):\n",
    "        stat_path = F'{config}{spec}/memory.stat.0.out'\n",
    "        mem_file = open(stat_path)\n",
    "        m_lines = mem_file.readlines()\n",
    "        key = configs[i]\n",
    "        ipc_dict[key] = float(m_lines[4].split()[-1])\n",
    "        dcms_dict[key] = float(m_lines[31].split()[2][:-1])\n",
    "        vch_dict[key] = float(m_lines[-4].split()[1])\n",
    "        cold_dict[key] = float(m_lines[37].split()[1])\n",
    "        cpt_dict[key] = float(m_lines[39].split()[1])\n",
    "        cft_dict[key] = float(m_lines[41].split()[1])\n",
    "        dcms_no_dict[key] = float(m_lines[31].split()[1])\n",
    "    return ipc_dict, dcms_dict, vch_dict, cold_dict, cpt_dict, cft_dict, dcms_no_dict"
   ]
  },
  {
   "cell_type": "code",
   "execution_count": 7,
   "id": "8cf7f52b",
   "metadata": {},
   "outputs": [],
   "source": [
    "spec_data = defaultdict(dict)\n",
    "for spec in spec_names:\n",
    "    data_lst = extract_one_spec(spec, )\n",
    "    spec_data[get_simple_name(spec)]['ipc'] = data_lst[0]\n",
    "    spec_data[get_simple_name(spec)]['dcms'] = data_lst[1]\n",
    "    spec_data[get_simple_name(spec)]['vch'] = data_lst[2]\n",
    "    spec_data[get_simple_name(spec)]['cold'] = data_lst[3]\n",
    "    spec_data[get_simple_name(spec)]['cpt'] = data_lst[4]\n",
    "    spec_data[get_simple_name(spec)]['cft'] = data_lst[5]\n",
    "    spec_data[get_simple_name(spec)]['dcms_no'] = data_lst[6]"
   ]
  },
  {
   "cell_type": "code",
   "execution_count": 8,
   "id": "56ac82a5",
   "metadata": {},
   "outputs": [],
   "source": [
    "ipc_df = pd.DataFrame({key: spec_data[key]['ipc'] for key in spec_data})\n",
    "dcms_df = pd.DataFrame({key: spec_data[key]['dcms'] for key in spec_data})\n",
    "vch_df = pd.DataFrame({key: spec_data[key]['vch'] for key in spec_data})\n",
    "cold_df = pd.DataFrame({key: spec_data[key]['cold'] for key in spec_data})\n",
    "cpt_df = pd.DataFrame({key: spec_data[key]['cpt'] for key in spec_data})\n",
    "cft_df = pd.DataFrame({key: spec_data[key]['cft'] for key in spec_data})\n",
    "dcms_no_df = pd.DataFrame({key: spec_data[key]['dcms_no'] for key in spec_data})\n",
    "\n",
    "ipc_df['average'] = ipc_df.mean(1)\n",
    "dcms_df['average'] = dcms_df.mean(1)\n",
    "vch_df['average'] = vch_df.mean(1)\n",
    "cold_df['average'] = cold_df.mean(1)\n",
    "cpt_df['average'] = cpt_df.mean(1)\n",
    "cft_df['average'] = cft_df.mean(1)\n",
    "dcms_no_df['average'] = dcms_no_df.mean(1)"
   ]
  },
  {
   "cell_type": "code",
   "execution_count": 9,
   "id": "a2a3f5d5",
   "metadata": {},
   "outputs": [
    {
     "data": {
      "text/html": [
       "<div>\n",
       "<style scoped>\n",
       "    .dataframe tbody tr th:only-of-type {\n",
       "        vertical-align: middle;\n",
       "    }\n",
       "\n",
       "    .dataframe tbody tr th {\n",
       "        vertical-align: top;\n",
       "    }\n",
       "\n",
       "    .dataframe thead th {\n",
       "        text-align: right;\n",
       "    }\n",
       "</style>\n",
       "<table border=\"1\" class=\"dataframe\">\n",
       "  <thead>\n",
       "    <tr style=\"text-align: right;\">\n",
       "      <th></th>\n",
       "      <th>deepsjeng</th>\n",
       "      <th>exchange2</th>\n",
       "      <th>leela_s_base</th>\n",
       "      <th>mcf_s_base</th>\n",
       "      <th>omnetpp</th>\n",
       "      <th>perlbench_s_base</th>\n",
       "      <th>sgcc_base</th>\n",
       "      <th>specrand_i</th>\n",
       "      <th>x264</th>\n",
       "      <th>xalancbmk_s_base</th>\n",
       "      <th>average</th>\n",
       "    </tr>\n",
       "  </thead>\n",
       "  <tbody>\n",
       "    <tr>\n",
       "      <th>VICTIM_CACHE_ON</th>\n",
       "      <td>1.93882</td>\n",
       "      <td>2.45767</td>\n",
       "      <td>1.60522</td>\n",
       "      <td>0.78381</td>\n",
       "      <td>1.20129</td>\n",
       "      <td>1.26584</td>\n",
       "      <td>1.22192</td>\n",
       "      <td>2.65907</td>\n",
       "      <td>2.93402</td>\n",
       "      <td>0.99269</td>\n",
       "      <td>1.706035</td>\n",
       "    </tr>\n",
       "    <tr>\n",
       "      <th>VICTIM_CACHE_OFF</th>\n",
       "      <td>1.92348</td>\n",
       "      <td>2.46473</td>\n",
       "      <td>1.59362</td>\n",
       "      <td>0.77881</td>\n",
       "      <td>1.19801</td>\n",
       "      <td>1.24599</td>\n",
       "      <td>1.21675</td>\n",
       "      <td>2.65873</td>\n",
       "      <td>2.92283</td>\n",
       "      <td>0.98934</td>\n",
       "      <td>1.699229</td>\n",
       "    </tr>\n",
       "  </tbody>\n",
       "</table>\n",
       "</div>"
      ],
      "text/plain": [
       "                  deepsjeng  exchange2  leela_s_base  mcf_s_base  omnetpp  \\\n",
       "VICTIM_CACHE_ON     1.93882    2.45767       1.60522     0.78381  1.20129   \n",
       "VICTIM_CACHE_OFF    1.92348    2.46473       1.59362     0.77881  1.19801   \n",
       "\n",
       "                  perlbench_s_base  sgcc_base  specrand_i     x264  \\\n",
       "VICTIM_CACHE_ON            1.26584    1.22192     2.65907  2.93402   \n",
       "VICTIM_CACHE_OFF           1.24599    1.21675     2.65873  2.92283   \n",
       "\n",
       "                  xalancbmk_s_base   average  \n",
       "VICTIM_CACHE_ON            0.99269  1.706035  \n",
       "VICTIM_CACHE_OFF           0.98934  1.699229  "
      ]
     },
     "execution_count": 9,
     "metadata": {},
     "output_type": "execute_result"
    }
   ],
   "source": [
    "ipc_df"
   ]
  },
  {
   "cell_type": "code",
   "execution_count": 10,
   "id": "4d393ed5",
   "metadata": {},
   "outputs": [
    {
     "data": {
      "text/html": [
       "<div>\n",
       "<style scoped>\n",
       "    .dataframe tbody tr th:only-of-type {\n",
       "        vertical-align: middle;\n",
       "    }\n",
       "\n",
       "    .dataframe tbody tr th {\n",
       "        vertical-align: top;\n",
       "    }\n",
       "\n",
       "    .dataframe thead th {\n",
       "        text-align: right;\n",
       "    }\n",
       "</style>\n",
       "<table border=\"1\" class=\"dataframe\">\n",
       "  <thead>\n",
       "    <tr style=\"text-align: right;\">\n",
       "      <th></th>\n",
       "      <th>deepsjeng</th>\n",
       "      <th>exchange2</th>\n",
       "      <th>leela_s_base</th>\n",
       "      <th>mcf_s_base</th>\n",
       "      <th>omnetpp</th>\n",
       "      <th>perlbench_s_base</th>\n",
       "      <th>sgcc_base</th>\n",
       "      <th>specrand_i</th>\n",
       "      <th>x264</th>\n",
       "      <th>xalancbmk_s_base</th>\n",
       "      <th>average</th>\n",
       "    </tr>\n",
       "  </thead>\n",
       "  <tbody>\n",
       "    <tr>\n",
       "      <th>VICTIM_CACHE_ON</th>\n",
       "      <td>3.061</td>\n",
       "      <td>0.002</td>\n",
       "      <td>1.420</td>\n",
       "      <td>25.287</td>\n",
       "      <td>10.102</td>\n",
       "      <td>6.024</td>\n",
       "      <td>5.154</td>\n",
       "      <td>0.195</td>\n",
       "      <td>2.902</td>\n",
       "      <td>21.031</td>\n",
       "      <td>7.5178</td>\n",
       "    </tr>\n",
       "    <tr>\n",
       "      <th>VICTIM_CACHE_OFF</th>\n",
       "      <td>4.056</td>\n",
       "      <td>0.002</td>\n",
       "      <td>1.737</td>\n",
       "      <td>26.126</td>\n",
       "      <td>10.866</td>\n",
       "      <td>7.138</td>\n",
       "      <td>6.389</td>\n",
       "      <td>0.554</td>\n",
       "      <td>3.399</td>\n",
       "      <td>21.544</td>\n",
       "      <td>8.1811</td>\n",
       "    </tr>\n",
       "  </tbody>\n",
       "</table>\n",
       "</div>"
      ],
      "text/plain": [
       "                  deepsjeng  exchange2  leela_s_base  mcf_s_base  omnetpp  \\\n",
       "VICTIM_CACHE_ON       3.061      0.002         1.420      25.287   10.102   \n",
       "VICTIM_CACHE_OFF      4.056      0.002         1.737      26.126   10.866   \n",
       "\n",
       "                  perlbench_s_base  sgcc_base  specrand_i   x264  \\\n",
       "VICTIM_CACHE_ON              6.024      5.154       0.195  2.902   \n",
       "VICTIM_CACHE_OFF             7.138      6.389       0.554  3.399   \n",
       "\n",
       "                  xalancbmk_s_base  average  \n",
       "VICTIM_CACHE_ON             21.031   7.5178  \n",
       "VICTIM_CACHE_OFF            21.544   8.1811  "
      ]
     },
     "execution_count": 10,
     "metadata": {},
     "output_type": "execute_result"
    }
   ],
   "source": [
    "dcms_df"
   ]
  },
  {
   "cell_type": "code",
   "execution_count": 11,
   "id": "ee7d0580",
   "metadata": {},
   "outputs": [
    {
     "data": {
      "text/html": [
       "<div>\n",
       "<style scoped>\n",
       "    .dataframe tbody tr th:only-of-type {\n",
       "        vertical-align: middle;\n",
       "    }\n",
       "\n",
       "    .dataframe tbody tr th {\n",
       "        vertical-align: top;\n",
       "    }\n",
       "\n",
       "    .dataframe thead th {\n",
       "        text-align: right;\n",
       "    }\n",
       "</style>\n",
       "<table border=\"1\" class=\"dataframe\">\n",
       "  <thead>\n",
       "    <tr style=\"text-align: right;\">\n",
       "      <th></th>\n",
       "      <th>deepsjeng</th>\n",
       "      <th>exchange2</th>\n",
       "      <th>leela_s_base</th>\n",
       "      <th>mcf_s_base</th>\n",
       "      <th>omnetpp</th>\n",
       "      <th>perlbench_s_base</th>\n",
       "      <th>sgcc_base</th>\n",
       "      <th>specrand_i</th>\n",
       "      <th>x264</th>\n",
       "      <th>xalancbmk_s_base</th>\n",
       "      <th>average</th>\n",
       "    </tr>\n",
       "  </thead>\n",
       "  <tbody>\n",
       "    <tr>\n",
       "      <th>VICTIM_CACHE_ON</th>\n",
       "      <td>201559.0</td>\n",
       "      <td>118.0</td>\n",
       "      <td>75294.0</td>\n",
       "      <td>278693.0</td>\n",
       "      <td>221539.0</td>\n",
       "      <td>304072.0</td>\n",
       "      <td>294739.0</td>\n",
       "      <td>46336.0</td>\n",
       "      <td>68246.0</td>\n",
       "      <td>169420.0</td>\n",
       "      <td>166001.6</td>\n",
       "    </tr>\n",
       "    <tr>\n",
       "      <th>VICTIM_CACHE_OFF</th>\n",
       "      <td>0.0</td>\n",
       "      <td>0.0</td>\n",
       "      <td>0.0</td>\n",
       "      <td>0.0</td>\n",
       "      <td>0.0</td>\n",
       "      <td>0.0</td>\n",
       "      <td>0.0</td>\n",
       "      <td>0.0</td>\n",
       "      <td>0.0</td>\n",
       "      <td>0.0</td>\n",
       "      <td>0.0</td>\n",
       "    </tr>\n",
       "  </tbody>\n",
       "</table>\n",
       "</div>"
      ],
      "text/plain": [
       "                  deepsjeng  exchange2  leela_s_base  mcf_s_base   omnetpp  \\\n",
       "VICTIM_CACHE_ON    201559.0      118.0       75294.0    278693.0  221539.0   \n",
       "VICTIM_CACHE_OFF        0.0        0.0           0.0         0.0       0.0   \n",
       "\n",
       "                  perlbench_s_base  sgcc_base  specrand_i     x264  \\\n",
       "VICTIM_CACHE_ON           304072.0   294739.0     46336.0  68246.0   \n",
       "VICTIM_CACHE_OFF               0.0        0.0         0.0      0.0   \n",
       "\n",
       "                  xalancbmk_s_base   average  \n",
       "VICTIM_CACHE_ON           169420.0  166001.6  \n",
       "VICTIM_CACHE_OFF               0.0       0.0  "
      ]
     },
     "execution_count": 11,
     "metadata": {},
     "output_type": "execute_result"
    }
   ],
   "source": [
    "vch_df"
   ]
  },
  {
   "cell_type": "code",
   "execution_count": 12,
   "id": "6587f6f6",
   "metadata": {},
   "outputs": [
    {
     "data": {
      "text/html": [
       "<div>\n",
       "<style scoped>\n",
       "    .dataframe tbody tr th:only-of-type {\n",
       "        vertical-align: middle;\n",
       "    }\n",
       "\n",
       "    .dataframe tbody tr th {\n",
       "        vertical-align: top;\n",
       "    }\n",
       "\n",
       "    .dataframe thead th {\n",
       "        text-align: right;\n",
       "    }\n",
       "</style>\n",
       "<table border=\"1\" class=\"dataframe\">\n",
       "  <thead>\n",
       "    <tr style=\"text-align: right;\">\n",
       "      <th></th>\n",
       "      <th>deepsjeng</th>\n",
       "      <th>exchange2</th>\n",
       "      <th>leela_s_base</th>\n",
       "      <th>mcf_s_base</th>\n",
       "      <th>omnetpp</th>\n",
       "      <th>perlbench_s_base</th>\n",
       "      <th>sgcc_base</th>\n",
       "      <th>specrand_i</th>\n",
       "      <th>x264</th>\n",
       "      <th>xalancbmk_s_base</th>\n",
       "      <th>average</th>\n",
       "    </tr>\n",
       "  </thead>\n",
       "  <tbody>\n",
       "    <tr>\n",
       "      <th>VICTIM_CACHE_ON</th>\n",
       "      <td>27089.0</td>\n",
       "      <td>239.0</td>\n",
       "      <td>4077.0</td>\n",
       "      <td>345025.0</td>\n",
       "      <td>293163.0</td>\n",
       "      <td>32772.0</td>\n",
       "      <td>45292.0</td>\n",
       "      <td>157.0</td>\n",
       "      <td>90712.0</td>\n",
       "      <td>44339.0</td>\n",
       "      <td>88286.5</td>\n",
       "    </tr>\n",
       "    <tr>\n",
       "      <th>VICTIM_CACHE_OFF</th>\n",
       "      <td>27089.0</td>\n",
       "      <td>239.0</td>\n",
       "      <td>4077.0</td>\n",
       "      <td>345025.0</td>\n",
       "      <td>293163.0</td>\n",
       "      <td>32772.0</td>\n",
       "      <td>45292.0</td>\n",
       "      <td>157.0</td>\n",
       "      <td>90712.0</td>\n",
       "      <td>44339.0</td>\n",
       "      <td>88286.5</td>\n",
       "    </tr>\n",
       "  </tbody>\n",
       "</table>\n",
       "</div>"
      ],
      "text/plain": [
       "                  deepsjeng  exchange2  leela_s_base  mcf_s_base   omnetpp  \\\n",
       "VICTIM_CACHE_ON     27089.0      239.0        4077.0    345025.0  293163.0   \n",
       "VICTIM_CACHE_OFF    27089.0      239.0        4077.0    345025.0  293163.0   \n",
       "\n",
       "                  perlbench_s_base  sgcc_base  specrand_i     x264  \\\n",
       "VICTIM_CACHE_ON            32772.0    45292.0       157.0  90712.0   \n",
       "VICTIM_CACHE_OFF           32772.0    45292.0       157.0  90712.0   \n",
       "\n",
       "                  xalancbmk_s_base  average  \n",
       "VICTIM_CACHE_ON            44339.0  88286.5  \n",
       "VICTIM_CACHE_OFF           44339.0  88286.5  "
      ]
     },
     "execution_count": 12,
     "metadata": {},
     "output_type": "execute_result"
    }
   ],
   "source": [
    "cold_df"
   ]
  },
  {
   "cell_type": "code",
   "execution_count": 13,
   "id": "16820c39",
   "metadata": {},
   "outputs": [
    {
     "data": {
      "text/html": [
       "<div>\n",
       "<style scoped>\n",
       "    .dataframe tbody tr th:only-of-type {\n",
       "        vertical-align: middle;\n",
       "    }\n",
       "\n",
       "    .dataframe tbody tr th {\n",
       "        vertical-align: top;\n",
       "    }\n",
       "\n",
       "    .dataframe thead th {\n",
       "        text-align: right;\n",
       "    }\n",
       "</style>\n",
       "<table border=\"1\" class=\"dataframe\">\n",
       "  <thead>\n",
       "    <tr style=\"text-align: right;\">\n",
       "      <th></th>\n",
       "      <th>deepsjeng</th>\n",
       "      <th>exchange2</th>\n",
       "      <th>leela_s_base</th>\n",
       "      <th>mcf_s_base</th>\n",
       "      <th>omnetpp</th>\n",
       "      <th>perlbench_s_base</th>\n",
       "      <th>sgcc_base</th>\n",
       "      <th>specrand_i</th>\n",
       "      <th>x264</th>\n",
       "      <th>xalancbmk_s_base</th>\n",
       "      <th>average</th>\n",
       "    </tr>\n",
       "  </thead>\n",
       "  <tbody>\n",
       "    <tr>\n",
       "      <th>VICTIM_CACHE_ON</th>\n",
       "      <td>193780.0</td>\n",
       "      <td>383.0</td>\n",
       "      <td>291306.0</td>\n",
       "      <td>9411232.0</td>\n",
       "      <td>2274356.0</td>\n",
       "      <td>1528048.0</td>\n",
       "      <td>629682.0</td>\n",
       "      <td>347.0</td>\n",
       "      <td>850837.0</td>\n",
       "      <td>6112769.0</td>\n",
       "      <td>2129274.0</td>\n",
       "    </tr>\n",
       "    <tr>\n",
       "      <th>VICTIM_CACHE_OFF</th>\n",
       "      <td>193673.0</td>\n",
       "      <td>390.0</td>\n",
       "      <td>301869.0</td>\n",
       "      <td>9412298.0</td>\n",
       "      <td>2275725.0</td>\n",
       "      <td>1528383.0</td>\n",
       "      <td>632247.0</td>\n",
       "      <td>347.0</td>\n",
       "      <td>853019.0</td>\n",
       "      <td>6113075.0</td>\n",
       "      <td>2131102.6</td>\n",
       "    </tr>\n",
       "  </tbody>\n",
       "</table>\n",
       "</div>"
      ],
      "text/plain": [
       "                  deepsjeng  exchange2  leela_s_base  mcf_s_base    omnetpp  \\\n",
       "VICTIM_CACHE_ON    193780.0      383.0      291306.0   9411232.0  2274356.0   \n",
       "VICTIM_CACHE_OFF   193673.0      390.0      301869.0   9412298.0  2275725.0   \n",
       "\n",
       "                  perlbench_s_base  sgcc_base  specrand_i      x264  \\\n",
       "VICTIM_CACHE_ON          1528048.0   629682.0       347.0  850837.0   \n",
       "VICTIM_CACHE_OFF         1528383.0   632247.0       347.0  853019.0   \n",
       "\n",
       "                  xalancbmk_s_base    average  \n",
       "VICTIM_CACHE_ON          6112769.0  2129274.0  \n",
       "VICTIM_CACHE_OFF         6113075.0  2131102.6  "
      ]
     },
     "execution_count": 13,
     "metadata": {},
     "output_type": "execute_result"
    }
   ],
   "source": [
    "cpt_df"
   ]
  },
  {
   "cell_type": "code",
   "execution_count": 14,
   "id": "c0341781",
   "metadata": {},
   "outputs": [
    {
     "data": {
      "text/html": [
       "<div>\n",
       "<style scoped>\n",
       "    .dataframe tbody tr th:only-of-type {\n",
       "        vertical-align: middle;\n",
       "    }\n",
       "\n",
       "    .dataframe tbody tr th {\n",
       "        vertical-align: top;\n",
       "    }\n",
       "\n",
       "    .dataframe thead th {\n",
       "        text-align: right;\n",
       "    }\n",
       "</style>\n",
       "<table border=\"1\" class=\"dataframe\">\n",
       "  <thead>\n",
       "    <tr style=\"text-align: right;\">\n",
       "      <th></th>\n",
       "      <th>deepsjeng</th>\n",
       "      <th>exchange2</th>\n",
       "      <th>leela_s_base</th>\n",
       "      <th>mcf_s_base</th>\n",
       "      <th>omnetpp</th>\n",
       "      <th>perlbench_s_base</th>\n",
       "      <th>sgcc_base</th>\n",
       "      <th>specrand_i</th>\n",
       "      <th>x264</th>\n",
       "      <th>xalancbmk_s_base</th>\n",
       "      <th>average</th>\n",
       "    </tr>\n",
       "  </thead>\n",
       "  <tbody>\n",
       "    <tr>\n",
       "      <th>VICTIM_CACHE_ON</th>\n",
       "      <td>912611.0</td>\n",
       "      <td>113.0</td>\n",
       "      <td>220176.0</td>\n",
       "      <td>925902.0</td>\n",
       "      <td>2221820.0</td>\n",
       "      <td>1088262.0</td>\n",
       "      <td>1728636.0</td>\n",
       "      <td>62887.0</td>\n",
       "      <td>62539.0</td>\n",
       "      <td>1461448.0</td>\n",
       "      <td>868439.4</td>\n",
       "    </tr>\n",
       "    <tr>\n",
       "      <th>VICTIM_CACHE_OFF</th>\n",
       "      <td>1289063.0</td>\n",
       "      <td>289.0</td>\n",
       "      <td>325872.0</td>\n",
       "      <td>1352361.0</td>\n",
       "      <td>2606462.0</td>\n",
       "      <td>1599772.0</td>\n",
       "      <td>2320879.0</td>\n",
       "      <td>179731.0</td>\n",
       "      <td>234809.0</td>\n",
       "      <td>1683325.0</td>\n",
       "      <td>1159256.3</td>\n",
       "    </tr>\n",
       "  </tbody>\n",
       "</table>\n",
       "</div>"
      ],
      "text/plain": [
       "                  deepsjeng  exchange2  leela_s_base  mcf_s_base    omnetpp  \\\n",
       "VICTIM_CACHE_ON    912611.0      113.0      220176.0    925902.0  2221820.0   \n",
       "VICTIM_CACHE_OFF  1289063.0      289.0      325872.0   1352361.0  2606462.0   \n",
       "\n",
       "                  perlbench_s_base  sgcc_base  specrand_i      x264  \\\n",
       "VICTIM_CACHE_ON          1088262.0  1728636.0     62887.0   62539.0   \n",
       "VICTIM_CACHE_OFF         1599772.0  2320879.0    179731.0  234809.0   \n",
       "\n",
       "                  xalancbmk_s_base    average  \n",
       "VICTIM_CACHE_ON          1461448.0   868439.4  \n",
       "VICTIM_CACHE_OFF         1683325.0  1159256.3  "
      ]
     },
     "execution_count": 14,
     "metadata": {},
     "output_type": "execute_result"
    }
   ],
   "source": [
    "cft_df"
   ]
  },
  {
   "cell_type": "code",
   "execution_count": 15,
   "id": "daae8302",
   "metadata": {},
   "outputs": [
    {
     "data": {
      "text/html": [
       "<div>\n",
       "<style scoped>\n",
       "    .dataframe tbody tr th:only-of-type {\n",
       "        vertical-align: middle;\n",
       "    }\n",
       "\n",
       "    .dataframe tbody tr th {\n",
       "        vertical-align: top;\n",
       "    }\n",
       "\n",
       "    .dataframe thead th {\n",
       "        text-align: right;\n",
       "    }\n",
       "</style>\n",
       "<table border=\"1\" class=\"dataframe\">\n",
       "  <thead>\n",
       "    <tr style=\"text-align: right;\">\n",
       "      <th></th>\n",
       "      <th>deepsjeng</th>\n",
       "      <th>exchange2</th>\n",
       "      <th>leela_s_base</th>\n",
       "      <th>mcf_s_base</th>\n",
       "      <th>omnetpp</th>\n",
       "      <th>perlbench_s_base</th>\n",
       "      <th>sgcc_base</th>\n",
       "      <th>specrand_i</th>\n",
       "      <th>x264</th>\n",
       "      <th>xalancbmk_s_base</th>\n",
       "      <th>average</th>\n",
       "    </tr>\n",
       "  </thead>\n",
       "  <tbody>\n",
       "    <tr>\n",
       "      <th>VICTIM_CACHE_ON</th>\n",
       "      <td>1133480.0</td>\n",
       "      <td>735.0</td>\n",
       "      <td>515559.0</td>\n",
       "      <td>10682159.0</td>\n",
       "      <td>4789339.0</td>\n",
       "      <td>2649082.0</td>\n",
       "      <td>2403610.0</td>\n",
       "      <td>63391.0</td>\n",
       "      <td>1004088.0</td>\n",
       "      <td>7618556.0</td>\n",
       "      <td>3085999.9</td>\n",
       "    </tr>\n",
       "    <tr>\n",
       "      <th>VICTIM_CACHE_OFF</th>\n",
       "      <td>1509825.0</td>\n",
       "      <td>918.0</td>\n",
       "      <td>631818.0</td>\n",
       "      <td>11109684.0</td>\n",
       "      <td>5175350.0</td>\n",
       "      <td>3160927.0</td>\n",
       "      <td>2998418.0</td>\n",
       "      <td>180235.0</td>\n",
       "      <td>1178540.0</td>\n",
       "      <td>7840739.0</td>\n",
       "      <td>3378645.4</td>\n",
       "    </tr>\n",
       "  </tbody>\n",
       "</table>\n",
       "</div>"
      ],
      "text/plain": [
       "                  deepsjeng  exchange2  leela_s_base  mcf_s_base    omnetpp  \\\n",
       "VICTIM_CACHE_ON   1133480.0      735.0      515559.0  10682159.0  4789339.0   \n",
       "VICTIM_CACHE_OFF  1509825.0      918.0      631818.0  11109684.0  5175350.0   \n",
       "\n",
       "                  perlbench_s_base  sgcc_base  specrand_i       x264  \\\n",
       "VICTIM_CACHE_ON          2649082.0  2403610.0     63391.0  1004088.0   \n",
       "VICTIM_CACHE_OFF         3160927.0  2998418.0    180235.0  1178540.0   \n",
       "\n",
       "                  xalancbmk_s_base    average  \n",
       "VICTIM_CACHE_ON          7618556.0  3085999.9  \n",
       "VICTIM_CACHE_OFF         7840739.0  3378645.4  "
      ]
     },
     "execution_count": 15,
     "metadata": {},
     "output_type": "execute_result"
    }
   ],
   "source": [
    "dcms_no_df"
   ]
  },
  {
   "cell_type": "code",
   "execution_count": 16,
   "id": "33e198e6",
   "metadata": {},
   "outputs": [],
   "source": [
    "def plot_ipc(start, end):\n",
    "    x = np.arange(start = 0, stop = (end - start + 1) * 10, step = 10)\n",
    "    width = 3.9\n",
    "    sinlge_width = 3.9\n",
    "    fig, ax = plt.subplots()\n",
    "    plt.xlim((-8, 128))\n",
    "    plt.ylim((0, 3.3))\n",
    "\n",
    "    for i in range(len(configs)):\n",
    "        ax.bar(x - width / 2 * (1 if i == 0 else -1), list(ipc_df.loc[configs[i], simple_names[start: end] + ['average']]), sinlge_width, label=configs[i], in_layout=False)\n",
    "    ax.set_ylabel('Instruction / Cycle')\n",
    "    ax.set_title('Instruction Per Cycle')\n",
    "    ax.set_xticks(x, simple_names[start: end] + ['average'])\n",
    "    ax.legend(loc='upper right')\n",
    "    plt.subplots_adjust(bottom=0.2, right=1.3)\n",
    "    plt.setp(ax.get_xticklabels(), rotation=25, horizontalalignment='right')\n",
    "#     plt.show()\n",
    "    plt.savefig(F'{image_path}/IPC_{start}{end}', dpi=200, bbox_inches='tight')"
   ]
  },
  {
   "cell_type": "code",
   "execution_count": 17,
   "id": "1f00e236",
   "metadata": {},
   "outputs": [
    {
     "data": {
      "image/png": "[encoded data removed]",
      "text/plain": [
       "<Figure size 432x288 with 1 Axes>"
      ]
     },
     "metadata": {
      "needs_background": "light"
     },
     "output_type": "display_data"
    }
   ],
   "source": [
    "plot_ipc(0, 10)"
   ]
  },
  {
   "cell_type": "code",
   "execution_count": 18,
   "id": "94688aca",
   "metadata": {},
   "outputs": [],
   "source": [
    "def plot_dcms(start, end):\n",
    "        specs = simple_names + ['average']\n",
    "        x = np.arange(start = 0, stop = (end - start + 1) * 10, step = 10)\n",
    "        width = 4.5\n",
    "        sinlge_width = 4.5\n",
    "        fig, ax = plt.subplots()\n",
    "        plt.xlim((-8, 128))\n",
    "        plt.ylim((0, 30))\n",
    "        \n",
    "        for i in range(2):\n",
    "            ax.bar(x - width / 2 * (1 if i == 0 else -1), list(dcms_df.loc[configs[i], simple_names[start: end] + ['average']]), sinlge_width, label=configs[i], in_layout=False)\n",
    "\n",
    "        ax.set_ylabel('DCache Miss Ratio %')\n",
    "        ax.set_title('DCache Miss Ratio')\n",
    "        ax.set_xticks(x, simple_names[start: end] + ['average'])\n",
    "        ax.legend(loc='upper right')\n",
    "        plt.subplots_adjust(bottom=0.2, right=1.3)\n",
    "        plt.setp(ax.get_xticklabels(), rotation=25, horizontalalignment='right')\n",
    "    #     plt.show()\n",
    "        plt.savefig(F'{image_path}/DCACHE_MISS_{start}{end}', dpi=200, bbox_inches='tight')"
   ]
  },
  {
   "cell_type": "code",
   "execution_count": 19,
   "id": "b035a15c",
   "metadata": {},
   "outputs": [
    {
     "data": {
      "image/png": "[encoded data removed]",
      "text/plain": [
       "<Figure size 432x288 with 1 Axes>"
      ]
     },
     "metadata": {
      "needs_background": "light"
     },
     "output_type": "display_data"
    }
   ],
   "source": [
    "plot_dcms(0, 10)"
   ]
  },
  {
   "cell_type": "code",
   "execution_count": 20,
   "id": "38d57d33",
   "metadata": {},
   "outputs": [],
   "source": [
    "def plot_vch(start, end):\n",
    "        specs = simple_names + ['average']\n",
    "        x = np.arange(start = 0, stop = (end - start + 1) * 10, step = 10)\n",
    "        width = 4.5\n",
    "        sinlge_width = 4.5\n",
    "        fig, ax = plt.subplots()\n",
    "        plt.xlim((-8, 128))\n",
    "        plt.ylim((0, 350000))\n",
    "        \n",
    "        for i in range(2):\n",
    "            ax.bar(x - width / 2 * (1 if i == 0 else -1), list(vch_df.loc[configs[i], simple_names[start: end] + ['average']]), sinlge_width, label=configs[i], in_layout=False)\n",
    "\n",
    "        ax.set_ylabel('Victim Cache Hit')\n",
    "        ax.set_title('Victim Cache Hit')\n",
    "        ax.set_xticks(x, simple_names[start: end] + ['average'])\n",
    "        ax.legend(loc='upper right')\n",
    "        plt.subplots_adjust(bottom=0.2, right=1.3)\n",
    "        plt.setp(ax.get_xticklabels(), rotation=25, horizontalalignment='right')\n",
    "    #     plt.show()\n",
    "        plt.savefig(F'{image_path}/VICTIM_CACHE_HIT_{start}{end}', dpi=200, bbox_inches='tight')"
   ]
  },
  {
   "cell_type": "code",
   "execution_count": 21,
   "id": "63bf2a10",
   "metadata": {},
   "outputs": [
    {
     "data": {
      "image/png": "[encoded data removed]",
      "text/plain": [
       "<Figure size 432x288 with 1 Axes>"
      ]
     },
     "metadata": {
      "needs_background": "light"
     },
     "output_type": "display_data"
    }
   ],
   "source": [
    "plot_vch(0, 10)"
   ]
  },
  {
   "cell_type": "code",
   "execution_count": 22,
   "id": "861d93bc",
   "metadata": {},
   "outputs": [],
   "source": [
    "def plot_dcms_stacked(start, end):\n",
    "        x = np.arange(start = 0, stop = (end - start + 1) * 10, step = 10)\n",
    "        width = 4.5\n",
    "        single_width = 4.5\n",
    "        fig, ax = plt.subplots()\n",
    "        plt.xlim((-8, 128))\n",
    "        plt.ylim((0, 28))\n",
    "\n",
    "        labeld = False\n",
    "        \n",
    "        for i in range(2):\n",
    "            btm = list(cold_df.loc[configs[i], simple_names[start: end] + ['average']] * dcms_df.loc[configs[i], simple_names[start: end] + ['average']] / dcms_no_df.loc[configs[i], simple_names[start: end] + ['average']])\n",
    "            mid = list(cpt_df.loc[configs[i], simple_names[start: end] + ['average']] * dcms_df.loc[configs[i], simple_names[start: end] + ['average']] / dcms_no_df.loc[configs[i], simple_names[start: end] + ['average']])\n",
    "            top = list(cft_df.loc[configs[i], simple_names[start: end] + ['average']] * dcms_df.loc[configs[i], simple_names[start: end] + ['average']] / dcms_no_df.loc[configs[i], simple_names[start: end] + ['average']])\n",
    "            btm_mid = list(cpt_df.loc[configs[i], simple_names[start: end] + ['average']] * dcms_df.loc[configs[i], simple_names[start: end] + ['average']] / dcms_no_df.loc[configs[i], simple_names[start: end] + ['average']] + \\\n",
    "                cold_df.loc[configs[i], simple_names[start: end] + ['average']] * dcms_df.loc[configs[i], simple_names[start: end] + ['average']] / dcms_no_df.loc[configs[i], simple_names[start: end] + ['average']])\n",
    "            ax.bar(x - width / 2 * (1 if i == 0 else -1), btm, single_width, color='tab:red', label=F'Compulsory' if not labeld else '', in_layout=False)\n",
    "            ax.bar(x - width / 2 * (1 if i == 0 else -1), mid, single_width, color='tab:blue', label=F'Capacity' if not labeld else '', bottom=btm, in_layout=False)\n",
    "            ax.bar(x - width / 2 * (1 if i == 0 else -1), top, single_width, color='tab:orange', label=F'Conflict'  if not labeld else '', bottom=btm_mid, in_layout=False)\n",
    "            labeld = True\n",
    "        ax.set_ylabel('DCache Miss Ratio %')\n",
    "        ax.set_title('DCache Miss Ratio (In Different Type)')\n",
    "        ax.set_xticks(x, simple_names[start: end] + ['average'])\n",
    "        ax.legend(loc='upper right')\n",
    "        plt.subplots_adjust(bottom=0.2, right=1.3)\n",
    "        plt.setp(ax.get_xticklabels(), rotation=25, horizontalalignment='right')\n",
    "        plt.savefig(F'{image_path}/DCACHE_MISS_STACKED_{start}{end}', dpi=200, bbox_inches='tight')"
   ]
  },
  {
   "cell_type": "code",
   "execution_count": 23,
   "id": "01725326",
   "metadata": {},
   "outputs": [
    {
     "data": {
      "image/png": "[encoded data removed]",
      "text/plain": [
       "<Figure size 432x288 with 1 Axes>"
      ]
     },
     "metadata": {
      "needs_background": "light"
     },
     "output_type": "display_data"
    }
   ],
   "source": [
    "plot_dcms_stacked(0, 10)"
   ]
  },
  {
   "cell_type": "code",
   "execution_count": null,
   "id": "000f7951",
   "metadata": {},
   "outputs": [],
   "source": []
  }
 ],
 "metadata": {
  "kernelspec": {
   "display_name": "Python 3 (ipykernel)",
   "language": "python",
   "name": "python3"
  },
  "language_info": {
   "codemirror_mode": {
    "name": "ipython",
    "version": 3
   },
   "file_extension": ".py",
   "mimetype": "text/x-python",
   "name": "python",
   "nbconvert_exporter": "python",
   "pygments_lexer": "ipython3",
   "version": "3.8.10"
  }
 },
 "nbformat": 4,
 "nbformat_minor": 5
}
